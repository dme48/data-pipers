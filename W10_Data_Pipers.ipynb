{
 "cells": [
  {
   "cell_type": "code",
   "execution_count": 6,
   "metadata": {},
   "outputs": [],
   "source": [
    "#Week 10 deliverable ipynb notebook\n",
    "#Group: The Data Pipers\n",
    "#Members: Diego Martinez Echevarria, dmartinezechevarria@gmail.com, Spain/Denmark, Data Analyst\n",
    "#         Jennifer Turley, jennifer.turley@ucdconnect.ie, Ireland, Data Analyst\n",
    "#Problem Description: \n",
    "    #Data Collection Pipeline, this project will collect data from surveys, \n",
    "    #converting the data into useful information\n",
    "#Github Repo Link: \n",
    "    #https://github.com/dme48/data-pipers\n",
    "#EDA performed on the data: \n",
    "    #This question is not yet applicable to our project. \n",
    "    #Data is being collected via the conformed surveys and the pipeline.  \n",
    "#Final Recommendation    \n",
    "    #Our final recommendation for our surveys is to use primarily Typeform, relying \n",
    "    #less on Survey Monkey and Google Forms. Typeform allows for better formatting \n",
    "    #of questions and more free responses than either Survey Monkey or Google Forms. \n",
    "    #We are therefore sharing the link for our Typeform survey more widely. \n",
    "    #Our survey links are still active and collecting data; this  data is being \n",
    "    #successfully extracted and transformed into a Pandas dataframe utilizing the \n",
    "    #pipeline code. We will subsequently do an analysis of the data.  \n",
    "\n",
    "#some of the code in progress is below, which can also be found at the above github link"
   ]
  },
  {
   "cell_type": "code",
   "execution_count": 7,
   "metadata": {},
   "outputs": [],
   "source": [
    "###Functions related to the gathering of data from online forms"
   ]
  },
  {
   "cell_type": "code",
   "execution_count": 8,
   "metadata": {},
   "outputs": [],
   "source": [
    "#required packages\n",
    "import os\n",
    "import json\n",
    "import pandas as pd\n",
    "from typing import Iterable\n",
    "from typeform import Typeform"
   ]
  },
  {
   "cell_type": "code",
   "execution_count": 9,
   "metadata": {},
   "outputs": [],
   "source": [
    "#Fetches answers\n",
    "def fetch_typeform(login_filename: str = \"login\",\n",
    "                   field_ids_filename=\"question_ids.json\") -> pd.DataFrame:\n",
    "\n",
    "    \n",
    "    ids_to_fields = read_field_ids(field_ids_filename)\n",
    "    (token, form_id) = read_login(login_filename)\n",
    "    responses = Typeform(token).responses\n",
    "    query_result: dict = responses.list(form_id)\n",
    "\n",
    "    answers = extract_answers(query_result, ids_to_fields)\n",
    "\n",
    "    return pd.DataFrame.from_dict(answers)\n"
   ]
  },
  {
   "cell_type": "code",
   "execution_count": 10,
   "metadata": {},
   "outputs": [],
   "source": [
    "#Reads the file (filename) and returns it as a dictionary\n",
    "def read_field_ids(filename: str):\n",
    "    path = os.path.dirname(os.path.realpath(__file__)) + \"/\" + filename\n",
    "    with open(path, \"r\") as json_file:\n",
    "        question_ids = json.load(json_file)\n",
    "    return question_ids"
   ]
  },
  {
   "cell_type": "code",
   "execution_count": 11,
   "metadata": {},
   "outputs": [],
   "source": [
    "#Reads the login file (filename) and returns the token and the form ID\n",
    "def read_login(filename: str):\n",
    "    path = os.path.dirname(os.path.realpath(__file__)) + \"/\" + filename\n",
    "    with open(path, \"r\") as f:\n",
    "        login_fields = f.read().split(\"\\n\")\n",
    "    return login_fields[0:2]\n"
   ]
  },
  {
   "cell_type": "code",
   "execution_count": 12,
   "metadata": {},
   "outputs": [],
   "source": [
    "#Extracts the answers from a Typeform formatted dict (single solved form)\n",
    "def extract_answers(query_response: dict, ids_to_fields: dict):\n",
    "    #Arguments:\n",
    "        #query_response (dict): Typeform's dict containing all responses\n",
    "        #ids_to_fields (dict): Connects question ids to corresponding fields\n",
    "    #Returns:\n",
    "        #dict containing the (formatted) answers to the form, in the shape of\n",
    "        #{field_a: [answer_a, answer_b, ...],\n",
    "        # field_b: [answer_a, answer_b, ...],...}.\n",
    "        #If no answer was found at some point, then its answer is None, which\n",
    "       # means that every list has the same length.\n",
    "   \n",
    "    fields = [f for f in ids_to_fields.values()]\n",
    "    final_answers = {f: [] for f in fields}\n",
    "    for answer_set in query_response[\"items\"]:\n",
    "        remaining_fields = set(fields)\n",
    "\n",
    "        for question in answer_set[\"answers\"]:\n",
    "            field = ids_to_fields[question[\"field\"][\"id\"]]\n",
    "            answer = format_answer(question)\n",
    "            final_answers[field].append(answer)\n",
    "            remaining_fields.discard(field)\n",
    "        for field in remaining_fields:\n",
    "            final_answers[field].append(None)\n",
    "\n",
    "    return final_answers\n",
    "\n",
    "\n",
    "FORMAT_GUIDE = {\n",
    "    \"text\": lambda x: x,\n",
    "    \"boolean\": lambda x: x,\n",
    "    \"number\": lambda x: float(x),\n",
    "    \"choice\": lambda x: x[\"label\"],\n",
    "    \"choices\": lambda x: x[\"labels\"]\n",
    "}\n",
    "\n"
   ]
  },
  {
   "cell_type": "code",
   "execution_count": 13,
   "metadata": {},
   "outputs": [],
   "source": [
    "#Extracts the answer from a question and formats it\n",
    "def format_answer(question):\n",
    "    \n",
    "    answer_type = question[\"type\"]\n",
    "    answer = question[answer_type]\n",
    "\n",
    "    return FORMAT_GUIDE[answer_type](answer)"
   ]
  },
  {
   "cell_type": "code",
   "execution_count": 14,
   "metadata": {},
   "outputs": [],
   "source": [
    "#for SurveyMonkey\n",
    "from surveymonkey.client import Client\n",
    "import os\n",
    "import json\n",
    "import pandas as pd"
   ]
  },
  {
   "cell_type": "code",
   "execution_count": 15,
   "metadata": {},
   "outputs": [],
   "source": [
    "def load_login(filename: str = \"login.json\") -> dict:\n",
    "    \"\"\"Reads surveymonkey credentials from filename and returns them as dict\"\"\"\n",
    "    path = os.path.dirname(os.path.realpath(__file__)) + \"/\" + filename\n",
    "    with open(path, \"r\") as f:\n",
    "        login = json.load(f)\n",
    "    return login"
   ]
  },
  {
   "cell_type": "code",
   "execution_count": 16,
   "metadata": {},
   "outputs": [],
   "source": [
    "def load_config(filename: str = \"form_config.json\") -> tuple:\n",
    "    \"\"\"\n",
    "    Loads the config file at filename and returns a tuple containing its two\n",
    "    dictionaries.\n",
    "    \"\"\"\n",
    "    path = os.path.dirname(os.path.realpath(__file__)) + \"/\" + filename\n",
    "    with open(path, \"r\") as f:\n",
    "        config = json.load(f)\n",
    "    return config"
   ]
  },
  {
   "cell_type": "code",
   "execution_count": 17,
   "metadata": {},
   "outputs": [],
   "source": [
    "def extract_questions(response):\n",
    "    questions = response[\"pages\"][0][\"questions\"]\n",
    "    for question in questions:\n",
    "        id = question[\"id\"]\n",
    "        answer = question[\"answers\"]\n",
    "        print(answer)"
   ]
  },
  {
   "cell_type": "code",
   "execution_count": 18,
   "metadata": {},
   "outputs": [],
   "source": [
    "def extract_answers(query_response: dict, config: dict) -> dict:\n",
    "    \"\"\"\n",
    "    Extracts the answers from a Survey Monkey single form\n",
    "    Arguments:\n",
    "        query_response (dict): Survey monkey's dict containing all responses\n",
    "        id_to_field (dict): Connects question ids to corresponding fields\n",
    "    Returns:\n",
    "        dict containing the (formatted) answers to the form, in the shape of\n",
    "        {field_a: [answer_a, answer_b, ...],\n",
    "         field_b: [answer_a, answer_b, ...],...}.\n",
    "        If no answer was found at some point, then its answer is None, which\n",
    "        means that every list has the same length.\n",
    "    \"\"\"\n",
    "    final_answers = {f: [] for f in config[\"id_to_field\"].values()}\n",
    "\n",
    "    for filled_form in query_response[\"data\"]:\n",
    "        remaining_fields = set(config[\"id_to_field\"].values())\n",
    "\n",
    "        question_set = filled_form[\"pages\"][0][\"questions\"]\n",
    "\n",
    "        for question in question_set:\n",
    "            field = config[\"id_to_field\"][question[\"id\"]]\n",
    "            answer = format_answer(\n",
    "                question[\"answers\"], field, config[\"id_to_choice\"])\n",
    "            final_answers[field].append(answer)\n",
    "            remaining_fields.discard(field)\n",
    "\n",
    "        for field in remaining_fields:\n",
    "            final_answers[field].append(None)\n",
    "\n",
    "    return final_answers\n",
    "\n"
   ]
  },
  {
   "cell_type": "code",
   "execution_count": 19,
   "metadata": {},
   "outputs": [],
   "source": [
    "def format_answer(answer: dict, field: str, id_to_choice: dict):\n",
    "    \"\"\"\n",
    "    Extracts the answer from a question and formats it. Accordingly\n",
    "    to the FORMAT_GUIDE and its field.\n",
    "    \"\"\"\n",
    "    FORMAT_GUIDE = {\n",
    "        \"default\": lambda x: int(x[0][\"text\"]),\n",
    "        \"actions_taken_self\": lambda x: [id_to_choice[choice_dict[\"choice_id\"]] for choice_dict in answer]\n",
    "    }\n",
    "    formater = FORMAT_GUIDE.get(field, FORMAT_GUIDE[\"default\"])\n",
    "    return formater(answer)\n",
    "\n"
   ]
  },
  {
   "cell_type": "code",
   "execution_count": 20,
   "metadata": {},
   "outputs": [],
   "source": [
    "def fetch_monkey():\n",
    "    login = load_login()\n",
    "    config = load_config()\n",
    "\n",
    "    client = Client(\n",
    "        client_id=login[\"client_id\"],\n",
    "        client_secret=login[\"client_secret\"],\n",
    "        redirect_uri=login[\"redirect_uri\"],\n",
    "        access_token=login[\"access_token\"])\n",
    "\n",
    "    all_responses = client.get_survey_response_bulk(login[\"form_id\"])\n",
    "\n",
    "    answers = extract_answers(all_responses, config)\n",
    "    return pd.DataFrame.from_dict(answers)"
   ]
  }
 ],
 "metadata": {
  "kernelspec": {
   "display_name": "Python 3",
   "language": "python",
   "name": "python3"
  },
  "language_info": {
   "codemirror_mode": {
    "name": "ipython",
    "version": 3
   },
   "file_extension": ".py",
   "mimetype": "text/x-python",
   "name": "python",
   "nbconvert_exporter": "python",
   "pygments_lexer": "ipython3",
   "version": "3.7.4"
  }
 },
 "nbformat": 4,
 "nbformat_minor": 2
}
